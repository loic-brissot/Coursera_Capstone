{
 "cells": [
  {
   "cell_type": "markdown",
   "metadata": {},
   "source": [
    "# Capstone Project Week 3 by Loïc BRISSOT: Business Analysis"
   ]
  },
  {
   "cell_type": "markdown",
   "metadata": {},
   "source": [
    "## Business Problem\n",
    "\n",
    "Jean-Philippe starts a new job on the other side of the town in two months. Right now he appreciates the neighborhood he lives in and he only has to walk 15mn to be at his job. He really appreciates the quality of life he has. With the future job his travel time will drastically change and he considers moving. He wants to find a neighborhood that will allow him to maintain his activities and a low travel time.\n",
    "\n",
    "In his daily life Jean-Philippe likes practising tennis (but he could switch to squash) and hanging out with his friends at Chinese restaurants, bars, and movie theaters. A neighborhood where he would be comfortable needs to have several of those facilities and those facilities should be well ranked/appreciated. To solve this problem, we will rank all the neighborhoods of Paris.\n",
    "\n",
    "To rank the best neighborhoods we will create a score:\n",
    "\n",
    "$\\begin{cases} neighborhoodScore = \\alpha_1*travelScore + \\alpha_2*sportScore + \\alpha_3*restaurantScore + \\alpha_4*barScore +\\alpha_5*cultureScore \\\\ \\sum \\alpha_i =1 \\end{cases}$\n",
    "\n",
    "The α parameters will be refined later. The goal of this formula is to determine the parameters we want to target. We will define in the methodology section how to calculate each score."
   ]
  },
  {
   "cell_type": "markdown",
   "metadata": {},
   "source": [
    "## Data Ressources\n",
    "\n",
    "To analyze the composition of Jean-Philippe's current neighborhoods and the neighborhoods where he could live we will use the FourSquare API: https://developer.foursquare.com/\n",
    "\n",
    "To map Paris and its administrative borough we will use the geospatial data available at: https://opendata.paris.fr/explore/dataset/quartier_paris/table/?sort=-c_qu&location=12,48.85889,2.34692&basemap=jawg.streets\n",
    "\n",
    "To measure travel times inside Paris with the public transportation system and walking distances we will use the Citymapper API: https://citymapper.3scale.net/"
   ]
  },
  {
   "cell_type": "markdown",
   "metadata": {},
   "source": [
    "## Methodology\n",
    "\n",
    "To rank each neighborhood, we will use the center of the neighborhood as given by the geospatial data file to simulate the address of Jean-Philippe's possible new home. From this address we will then calculate the travel time to Jean-Philippe's job with the Citymapper API and explore the surroundings with the FourSquare API. Exploring the surroundings will give us the list of locations, their ranking and their type, in the neighborhood of Jean-Philippe's future home.\n",
    "\n",
    "### Alpha Parameters\n",
    "\n",
    "$\\begin{cases}\n",
    "   \\alpha_1 = 0.3 & \\quad \\text{the coefficient for the travel score}\n",
    "\\\\ \\alpha_2 = 0.3 & \\quad \\text{the coefficient for the sport score}\n",
    "\\\\ \\alpha_3 = 0.1 & \\quad \\text{the coefficient for the restaurant score}\n",
    "\\\\ \\alpha_4 = 0.2 & \\quad \\text{the coefficient for the bar score}\n",
    "\\\\ \\alpha_5 = 0.1 & \\quad \\text{the coefficient for the culture score}\n",
    "\\end{cases}$\n",
    "\n",
    "### Calculating Scores\n",
    "\n",
    "The scores will be calculated as followed :\n",
    "\n",
    "#### Travel Score\n",
    "The travel score will be close or equal to 1 for a low travel time and the score will drop to 0 and below for travel times above 1h.\n",
    "\n",
    "$ travelScore = \\begin{cases} 1 & \\quad \\text{if travelTime ≤ 20mn} \\\\ 1,5-travelTime/40 & \\quad \\text{if travelTime > 20mn} \\end{cases} $\n",
    "\n",
    "#### Sport Score\n",
    "The sport score will be close or equal to 1 if there is a tennis or squash court  with a good ranking (equal or better than 4/5) less than 1 km away from home.\n",
    "\n",
    "$ sportScore = \\begin{cases} 1 & \\quad \\text{if ranking ≥ 4 and distance ≤ 1000} \\\\0.8 & \\quad \\text{if ranking ≥ 4 and distance ≤ 2000} \\\\0.6 & \\quad \\text{if ranking ≥ 3 and distance ≤ 2000} \\\\0.4 & \\quad \\text{if ranking ≥ 2 and distance ≤ 3000} \\\\ 0 & \\quad \\text{else} \\end{cases} $\n",
    "\n",
    "#### Restaurant Score\n",
    "The restaurant score will be close or equal to 1 if there are three or more well ranked Chinese restaurants within 1.5 km of home.\n",
    "\n",
    "$ restaurantScore = \\begin{cases} 1 & \\quad \\text{if ranking ≥ 4 and distance ≤ 1500 for 3 restaurants} \\\\ 0.8 & \\quad \\text{if ranking ≥ 4 and distance ≤ 1500 for 2 restaurants} \\\\ 0.5 & \\quad \\text{if ranking ≥ 4 and distance ≤ 1500 for 1 restaurants} \\\\ 0 & \\quad \\text{else} \\end{cases} $\n",
    "\n",
    "#### Bar Score\n",
    "The bar score will be close or equal to 1 if there are numerous well ranked bars close to home.\n",
    "\n",
    "$ barScore = \\begin{cases} 1 & \\quad \\text{if ranking ≥ 4 and distance ≤ 1500 for 6 bars} \\\\ 0.8 & \\quad \\text{if ranking ≥ 4 and distance ≤ 1500 for 4 bars} \\\\ 0.5 & \\quad \\text{if ranking ≥ 4 and distance ≤ 1500 for 2 bars} \\\\ 0 & \\quad \\text{else} \\end{cases} $\n",
    "\n",
    "#### Culture Score\n",
    "The culture score will be high if there is at least one movie theater within 1 km of home.\n",
    "\n",
    "$ cultureScore = \\begin{cases} 1 & \\quad \\text{if distance ≤ 1000} \\\\ 0.7 & \\quad \\text{if distance ≤ 1800} \\\\ 0.4 & \\quad \\text{if distance ≤ 2600} \\\\ 0 & \\quad \\text{else} \\end{cases} $\n",
    "\n",
    "### Methodology limitations\n",
    "\n",
    "Ideally we wouldn't use the center of the neighborhood as given by the geospatial data but we do not have unlimited API calls to measure travel time between Jean-Philippe's home and his new job. Later on, we might be able to refine this part of the project.\n",
    "\n",
    "Ideally we also wouldn't use a distance in meters to see if a point of interest is close to a residential location. Using the Citymapper API with travel time by foot should be much better but once again the number of API calls we can use is limited."
   ]
  },
  {
   "cell_type": "code",
   "execution_count": null,
   "metadata": {},
   "outputs": [],
   "source": []
  }
 ],
 "metadata": {
  "kernelspec": {
   "display_name": "Python 3",
   "language": "python",
   "name": "python3"
  },
  "language_info": {
   "codemirror_mode": {
    "name": "ipython",
    "version": 3
   },
   "file_extension": ".py",
   "mimetype": "text/x-python",
   "name": "python",
   "nbconvert_exporter": "python",
   "pygments_lexer": "ipython3",
   "version": "3.6.5"
  }
 },
 "nbformat": 4,
 "nbformat_minor": 2
}
